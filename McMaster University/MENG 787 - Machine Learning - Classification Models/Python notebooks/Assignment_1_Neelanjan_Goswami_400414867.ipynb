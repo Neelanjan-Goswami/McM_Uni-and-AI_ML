{
  "nbformat": 4,
  "nbformat_minor": 0,
  "metadata": {
    "colab": {
      "name": "Assignment_1_Neelanjan_Goswami_400414867.ipynb",
      "provenance": [],
      "collapsed_sections": []
    },
    "kernelspec": {
      "name": "python3",
      "display_name": "Python 3"
    },
    "language_info": {
      "name": "python"
    }
  },
  "cells": [
    {
      "cell_type": "markdown",
      "source": [
        "# Assignment 1"
      ],
      "metadata": {
        "id": "Pkb8g28Stxz9"
      }
    },
    {
      "cell_type": "code",
      "execution_count": 1,
      "metadata": {
        "id": "ZQ2qRgr7nCOv"
      },
      "outputs": [],
      "source": [
        "import numpy as np\n",
        "import random\n",
        "import math\n",
        "import matplotlib.pyplot\n",
        "import pandas as pd\n",
        "from sklearn.preprocessing import StandardScaler"
      ]
    },
    {
      "cell_type": "code",
      "source": [
        "df = pd.read_csv('data1.csv')"
      ],
      "metadata": {
        "id": "JqBYonOPw94i"
      },
      "execution_count": 2,
      "outputs": []
    },
    {
      "cell_type": "markdown",
      "source": [
        "### Question 1"
      ],
      "metadata": {
        "id": "wj8M8y3EtobH"
      }
    },
    {
      "cell_type": "code",
      "source": [
        "# Giving private/public 0 or 1\n",
        "df['private']=df['Private/Public'].map(({'private':1,'public':0}))\n",
        "df.drop('Private/Public',axis=1,inplace=True)\n",
        "\n",
        "# Applying Hot-key for the University State column\n",
        "state=df['University State'].unique()\n",
        "for i in state:\n",
        "    df[i]=np.where(df['University State']==i, 1, 0)"
      ],
      "metadata": {
        "id": "TKryfbvznElG"
      },
      "execution_count": 3,
      "outputs": []
    },
    {
      "cell_type": "code",
      "source": [
        "#Scaling\n",
        "df['Academics (1 – 5)']=(df['Academics (1 – 5)']-1)/(5-1)\n",
        "df['Social (1 – 5)']=(df['Social (1 – 5)']-1)/(5-1)\n",
        "df['Quality of Life (1 – 5)']=(df['Quality of Life (1 – 5)']-1)/(5-1)\n",
        "df['SAT verbal']=(df['SAT verbal']-200)/600\n",
        "df['SAT math']=(df['SAT math']-200)/600\n",
        "\n",
        "#Rearranging\n",
        "df=df[['SAT verbal','SAT math','Academics (1 – 5)','Social (1 – 5)','Quality of Life (1 – 5)',state[0],state[1],state[2],'private']]"
      ],
      "metadata": {
        "id": "nwoMwSthxT4a"
      },
      "execution_count": 4,
      "outputs": []
    },
    {
      "cell_type": "code",
      "source": [
        "#Splitting\n",
        "X = np.array(df)\n",
        "X_train = X[0:20,0:8]\n",
        "X_test = X[20:,0:8]\n",
        "Xtrain = X[0:20,8]\n",
        "Xtest = X[20:,8]"
      ],
      "metadata": {
        "id": "qyaWQKLgx1Dp"
      },
      "execution_count": 5,
      "outputs": []
    },
    {
      "cell_type": "code",
      "source": [
        "k_values = [3,5,7]\n",
        "\n",
        "for k in k_values:\n",
        "  errors = np.zeros(Xtest.shape[0])\n",
        "  for i in range(Xtest.shape[0]):\n",
        "\n",
        "      man_dist = np.sum(np.abs(X_train - X_test[i,:]),axis = 1)\n",
        "      sorted_man_dist = np.argsort(man_dist)\n",
        "      best_man_dist = Xtrain[sorted_man_dist[0:k]]\n",
        "      \n",
        "      pred = (sum(best_man_dist) > k/2.0)*1.0\n",
        "      errors[i] = (Xtest[i] != pred)*1.0\n",
        "\n",
        "  print(f\"Errors of Target-{k} = \", np.sum(errors))"
      ],
      "metadata": {
        "colab": {
          "base_uri": "https://localhost:8080/"
        },
        "id": "EELLMysG94B2",
        "outputId": "7f6f78d3-531b-4e18-8472-4c7f483fc035"
      },
      "execution_count": 6,
      "outputs": [
        {
          "output_type": "stream",
          "name": "stdout",
          "text": [
            "Errors of Target-3 =  2.0\n",
            "Errors of Target-5 =  2.0\n",
            "Errors of Target-7 =  2.0\n"
          ]
        }
      ]
    },
    {
      "cell_type": "markdown",
      "source": [
        "### Question 2"
      ],
      "metadata": {
        "id": "NFuD-yNrtvUF"
      }
    },
    {
      "cell_type": "code",
      "source": [
        "df2 = pd.read_csv('data2.csv')"
      ],
      "metadata": {
        "id": "Uwk7JN9yzsmk"
      },
      "execution_count": 7,
      "outputs": []
    },
    {
      "cell_type": "code",
      "source": [
        "# function to transform the column data into unit scaling\n",
        "def unit_scaling(column):\n",
        "    range=column.max()-column.min()\n",
        "    transformed_value=(column-column.min())/range\n",
        "    return transformed_value"
      ],
      "metadata": {
        "id": "pSBoNk3i8yIf"
      },
      "execution_count": 8,
      "outputs": []
    },
    {
      "cell_type": "code",
      "source": [
        "df2['Temperature of Patient ( ⁰C )'] = unit_scaling(df2['Temperature of Patient ( ⁰C )'])\n",
        "X = df2.drop(['Patient Number'], axis=1)\n",
        "\n",
        "# 'yes' = 1\n",
        "X = X.replace('yes',1)\n",
        "# 'no' = 0\n",
        "X = X.replace('no',0)\n",
        "\n",
        "#Splitting\n",
        "X = np.array(X)\n",
        "X_train = X[0:20,0:6]\n",
        "X_test = X[20:,0:6]\n",
        "Xtrain = X[0:20,6:]\n",
        "Xtest = X[20:,6:]"
      ],
      "metadata": {
        "id": "vC68x34Btk9u"
      },
      "execution_count": 9,
      "outputs": []
    },
    {
      "cell_type": "code",
      "source": [
        "k_values = [3,5,7]\n",
        "\n",
        "for k in k_values:\n",
        "  errors = np.zeros((X_test.shape[0],2))\n",
        "  for i in range(X_test.shape[0]):\n",
        "\n",
        "      euc_dist = np.sum((X_train - X_test[i,:])**2,axis = 1)**0.5\n",
        "      sort_euc_dist = np.argsort(euc_dist)\n",
        "      best_euc_dist = Xtrain[sort_euc_dist[0:k]]\n",
        "      pred1 = (sum(best_euc_dist[:,0]) > k/2.0)*1.0\n",
        "      pred2 = (sum(best_euc_dist[:,1]) > k/2.0)*1.0\n",
        "      errors[i:,0] = (Xtest[i:,0] != pred1)*1.0\n",
        "      errors[i:,1] = (Xtest[i:,1] != pred2)*1.0\n",
        "\n",
        "  print(f\"Total Bladder Inflamation Errors of Target-{k}  = \", np.sum(errors[:,0]))\n",
        "  print(f\"Total Nephritis Errors of Target-{k} = \", np.sum(errors[:,1]))"
      ],
      "metadata": {
        "colab": {
          "base_uri": "https://localhost:8080/"
        },
        "id": "bqiCp4RM91Jv",
        "outputId": "10e976eb-a3e7-4e73-8ec9-ac179d8cca6c"
      },
      "execution_count": 10,
      "outputs": [
        {
          "output_type": "stream",
          "name": "stdout",
          "text": [
            "Total Bladder Inflamation Errors of Target-3  =  1.0\n",
            "Total Nephritis Errors of Target-3 =  0.0\n",
            "Total Bladder Inflamation Errors of Target-5  =  1.0\n",
            "Total Nephritis Errors of Target-5 =  0.0\n",
            "Total Bladder Inflamation Errors of Target-7  =  1.0\n",
            "Total Nephritis Errors of Target-7 =  0.0\n"
          ]
        }
      ]
    }
  ]
}