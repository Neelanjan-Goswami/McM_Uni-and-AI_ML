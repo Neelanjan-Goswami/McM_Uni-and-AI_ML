{
  "nbformat": 4,
  "nbformat_minor": 0,
  "metadata": {
    "colab": {
      "name": "Assignment_2_Neelanjan_Goswami_SEP786.ipynb",
      "provenance": [],
      "collapsed_sections": []
    },
    "kernelspec": {
      "name": "python3",
      "display_name": "Python 3"
    },
    "language_info": {
      "name": "python"
    }
  },
  "cells": [
    {
      "cell_type": "markdown",
      "source": [
        "# Assignment 2\n",
        "~ Neelanjan Goswami"
      ],
      "metadata": {
        "id": "rMn8F5EbEB0j"
      }
    },
    {
      "cell_type": "markdown",
      "source": [
        "## Question 1"
      ],
      "metadata": {
        "id": "cuj-ZM59EIIw"
      }
    },
    {
      "cell_type": "code",
      "source": [
        "import numpy as np"
      ],
      "metadata": {
        "id": "oRvRE5b1EgQx"
      },
      "execution_count": 24,
      "outputs": []
    },
    {
      "cell_type": "code",
      "source": [
        "# Generating random 10 values and their mean\n",
        "from random import randint\n",
        "mean_1=[]\n",
        "mean_2=[]"
      ],
      "metadata": {
        "id": "XK8aIVMbECbK"
      },
      "execution_count": 25,
      "outputs": []
    },
    {
      "cell_type": "code",
      "source": [
        "for i in range(1,11):\n",
        "  value_1= randint(0,10)\n",
        "  value_2= randint(0,10)\n",
        "  mean_1.append(value_1)\n",
        "  mean_2.append(value_2)\n",
        "print(mean_1)\n",
        "print(mean_2)"
      ],
      "metadata": {
        "colab": {
          "base_uri": "https://localhost:8080/"
        },
        "id": "ZEQdA53wS__a",
        "outputId": "ebd5c90f-3f84-4ac2-92e9-c125e1f5b789"
      },
      "execution_count": 26,
      "outputs": [
        {
          "output_type": "stream",
          "name": "stdout",
          "text": [
            "[6, 10, 3, 10, 3, 2, 10, 4, 4, 2]\n",
            "[10, 4, 10, 3, 8, 9, 9, 7, 5, 8]\n"
          ]
        }
      ]
    },
    {
      "cell_type": "code",
      "source": [
        "# Creating 10x10 diagonal matrices\n",
        "import random\n",
        "diag1=np.diag(random.sample(range(1,11),10))\n",
        "diag2=np.diag(random.sample(range(1,11),10))\n",
        "m=0"
      ],
      "metadata": {
        "id": "M5gJvHXbCPkc"
      },
      "execution_count": 27,
      "outputs": []
    },
    {
      "cell_type": "code",
      "source": [
        "for m in range(5):\n",
        "  diag1[random.randrange(10)][random.randrange(10)] = random.randrange(10)\n",
        "  diag2[random.randrange(10)][random.randrange(10)] = random.randrange(10)\n",
        "  m=-1\n",
        "cov1=diag1\n",
        "cov2=diag2"
      ],
      "metadata": {
        "id": "Mj3wrabSTU_Z"
      },
      "execution_count": 28,
      "outputs": []
    },
    {
      "cell_type": "code",
      "source": [
        "print(cov1)\n",
        "print(cov1.shape)\n",
        "print(cov2)\n",
        "print(cov2.shape)"
      ],
      "metadata": {
        "colab": {
          "base_uri": "https://localhost:8080/"
        },
        "id": "eXcPO5HfTXkT",
        "outputId": "715bb983-a35a-46b0-f370-2918aaacccbb"
      },
      "execution_count": 29,
      "outputs": [
        {
          "output_type": "stream",
          "name": "stdout",
          "text": [
            "[[ 8  0  0  0  0  0  0  0  0  0]\n",
            " [ 5 10  0  0  0  0  0  0  0  0]\n",
            " [ 0  0  6  0  0  0  2  0  0  0]\n",
            " [ 0  0  0  3  0  0  0  0  6  0]\n",
            " [ 0  0  0  5  6  0  0  0  0  0]\n",
            " [ 0  0  0  0  0  5  0  0  0  0]\n",
            " [ 0  0  0  0  0  0  1  0  0  0]\n",
            " [ 0  0  0  0  0  0  0  2  0  0]\n",
            " [ 0  0  0  0  0  0  0  0  7  0]\n",
            " [ 0  0  0  0  0  0  0  0  0  9]]\n",
            "(10, 10)\n",
            "[[ 6  0  0  0  0  0  0  0  0  0]\n",
            " [ 5  9  0  0  0  0  0  9  0  0]\n",
            " [ 1  0  4  0  0  0  0  0  0  5]\n",
            " [ 0  0  0  2  0  0  0  0  0  0]\n",
            " [ 0  0  0  0  7  0  0  0  0  0]\n",
            " [ 0  0  0  0  0  1  0  0  0  0]\n",
            " [ 0  0  0  0  0  0  3  0  0  0]\n",
            " [ 0  0  0  0  0  0  0 10  0  0]\n",
            " [ 0  0  0  0  0  0  0  0  8  0]\n",
            " [ 0  0  0  0  0  0  0  0  0  5]]\n",
            "(10, 10)\n"
          ]
        }
      ]
    },
    {
      "cell_type": "code",
      "source": [
        "a, b, c, d, e, f, g, h, i, j = np.random.multivariate_normal(mean_1,cov1,1000).T\n",
        "A1 = np.vstack((a, b, c, d, e, f, g, h, i, j)).T\n",
        "print(A1)"
      ],
      "metadata": {
        "colab": {
          "base_uri": "https://localhost:8080/"
        },
        "id": "ytIUX7j6DQX2",
        "outputId": "8a8350f0-24f2-440d-ce06-ebf6cfce9c11"
      },
      "execution_count": 30,
      "outputs": [
        {
          "output_type": "stream",
          "name": "stdout",
          "text": [
            "[[13.49157016 14.29302967  1.15598119 ...  4.01828259  2.08039717\n",
            "  -0.28115877]\n",
            " [ 5.12659603 11.27872708  0.88365905 ...  2.54714698  4.87315631\n",
            "  -2.66757553]\n",
            " [ 6.71147027  8.74532758  1.08608464 ...  2.46456922  0.62224944\n",
            "   2.76707064]\n",
            " ...\n",
            " [ 4.80504739  6.93118507  2.28749529 ...  2.00521277  3.06457192\n",
            "  -0.72324467]\n",
            " [ 3.90883114  8.6124594   1.93455394 ...  4.99381111 -3.17542061\n",
            "   3.753817  ]\n",
            " [ 5.94661782 11.71732436  1.25172118 ...  7.02621688  7.0110667\n",
            "   4.35289576]]\n"
          ]
        },
        {
          "output_type": "stream",
          "name": "stderr",
          "text": [
            "/usr/local/lib/python3.7/dist-packages/ipykernel_launcher.py:1: RuntimeWarning: covariance is not positive-semidefinite.\n",
            "  \"\"\"Entry point for launching an IPython kernel.\n"
          ]
        }
      ]
    },
    {
      "cell_type": "code",
      "source": [
        "k, l, m, n, o, p, q, r, s, t = np.random.multivariate_normal(mean_2,cov2,1000).T\n",
        "B1 = np.vstack((k, l, m, n, o, p, q, r, s, t)).T\n",
        "print(B1)"
      ],
      "metadata": {
        "colab": {
          "base_uri": "https://localhost:8080/"
        },
        "id": "KndH60E1Dh9w",
        "outputId": "af2dcd12-bdd7-4c4e-d3a2-3076d0029136"
      },
      "execution_count": 31,
      "outputs": [
        {
          "output_type": "stream",
          "name": "stdout",
          "text": [
            "[[14.95058568  4.51649086  8.6791933  ... 14.30549913  8.30837759\n",
            "   8.05915659]\n",
            " [12.31215509  4.58610955  6.08117723 ... -0.33751384  5.17470873\n",
            "   6.02294711]\n",
            " [ 6.96580588  4.12572393 10.70920744 ...  6.36233231  9.79186739\n",
            "   4.72266248]\n",
            " ...\n",
            " [11.37958279  7.18028234 12.5443683  ...  6.7621523   4.09764139\n",
            "   6.62249676]\n",
            " [ 7.87001288  5.46085121 13.14861941 ...  4.37248864  3.16316852\n",
            "   7.77819005]\n",
            " [ 8.20596405  2.90621122 13.11255337 ...  9.60749665  5.4827959\n",
            "   9.6196341 ]]\n"
          ]
        },
        {
          "output_type": "stream",
          "name": "stderr",
          "text": [
            "/usr/local/lib/python3.7/dist-packages/ipykernel_launcher.py:1: RuntimeWarning: covariance is not positive-semidefinite.\n",
            "  \"\"\"Entry point for launching an IPython kernel.\n"
          ]
        }
      ]
    },
    {
      "cell_type": "code",
      "source": [
        "import matplotlib.pyplot as plt\n",
        "plt.scatter(A1[:,0],A1[:,1], c='black', marker='.')\n",
        "plt.scatter(B1[:,0],B1[:,1], c='gold' , marker='.')\n",
        "ans=np.concatenate((A1,B1),axis=0)\n",
        "print(ans.shape)"
      ],
      "metadata": {
        "colab": {
          "base_uri": "https://localhost:8080/",
          "height": 282
        },
        "id": "5I_cYC_0D3fl",
        "outputId": "c4cc0fb9-af2a-4a1c-fddf-33725ca3044d"
      },
      "execution_count": 32,
      "outputs": [
        {
          "output_type": "stream",
          "name": "stdout",
          "text": [
            "(2000, 10)\n"
          ]
        },
        {
          "output_type": "display_data",
          "data": {
            "text/plain": [
              "<Figure size 432x288 with 1 Axes>"
            ],
            "image/png": "[encoded data removed]"
          },
          "metadata": {
            "needs_background": "light"
          }
        }
      ]
    },
    {
      "cell_type": "markdown",
      "source": [
        "# Question 2"
      ],
      "metadata": {
        "id": "BfFwuGaHES_y"
      }
    },
    {
      "cell_type": "markdown",
      "source": [
        "### Question 2A"
      ],
      "metadata": {
        "id": "-j3l0oqZJ8jw"
      }
    },
    {
      "cell_type": "code",
      "source": [
        "center_mean = ans - np.mean(ans, axis=0)\n",
        "cov= np.cov(center_mean, rowvar = False)\n",
        "eigen_vector,eigen_value= np.linalg.eigh(cov)\n",
        "sorted_index = np.argsort(eigen_vector)[::-1]\n",
        "new_ev = eigen_vector[sorted_index]\n",
        "new_eig_vec = eigen_value[:, sorted_index]\n",
        "reduced_Dataset = np.dot(ans, new_eig_vec)"
      ],
      "metadata": {
        "id": "FhiFVGs0INSy"
      },
      "execution_count": 33,
      "outputs": []
    },
    {
      "cell_type": "code",
      "source": [
        "MSE_VAL=[]\n",
        "for k in range(9,4,-1):\n",
        "  Post_pca = reduced_Dataset[:,0:k]\n",
        "  Post_pca = np.dot(Post_pca, new_eig_vec[:,0:k].T)\n",
        "  MSE= sum(sum((Post_pca - ans)**2))/len(ans)\n",
        "  MSE_VAL.append(MSE)\n",
        "MSE_VAL.append(0)\n",
        "MSE_VAL= [x for x in reversed (MSE_VAL)]\n",
        "print(\"MSE values = \",MSE_VAL)\n",
        "x=MSE_VAL"
      ],
      "metadata": {
        "colab": {
          "base_uri": "https://localhost:8080/"
        },
        "id": "DkBrfCA3T449",
        "outputId": "5242b3da-2b74-4ccf-83b1-2008ce72b541"
      },
      "execution_count": 34,
      "outputs": [
        {
          "output_type": "stream",
          "name": "stdout",
          "text": [
            "MSE values =  [0, 177.97672012132873, 170.7850087259847, 159.5728507432131, 104.4219195106757, 61.16395208235856]\n"
          ]
        }
      ]
    },
    {
      "cell_type": "code",
      "source": [
        "yplot = [5,6,7,8,9,10]\n",
        "plt.plot(x,yplot,marker='.')\n",
        "plt.ylabel(\"No of dimension\")\n",
        "plt.xlabel(\"MSE\")\n",
        "plt.show()"
      ],
      "metadata": {
        "colab": {
          "base_uri": "https://localhost:8080/",
          "height": 279
        },
        "id": "zdkut_ePT6as",
        "outputId": "a1e7fd84-3d45-4888-f96e-b6d58c74a775"
      },
      "execution_count": 35,
      "outputs": [
        {
          "output_type": "display_data",
          "data": {
            "text/plain": [
              "<Figure size 432x288 with 1 Axes>"
            ],
            "image/png": "[encoded data removed]"
          },
          "metadata": {
            "needs_background": "light"
          }
        }
      ]
    },
    {
      "cell_type": "markdown",
      "source": [
        "### Question 2B"
      ],
      "metadata": {
        "id": "8ujQAYlpLN4R"
      }
    },
    {
      "cell_type": "code",
      "source": [
        "from sklearn.discriminant_analysis import LinearDiscriminantAnalysis as LDA\n",
        "from sklearn.metrics import accuracy_score\n",
        "scores=[]"
      ],
      "metadata": {
        "id": "kksUrNDoLRPJ"
      },
      "execution_count": 36,
      "outputs": []
    },
    {
      "cell_type": "code",
      "source": [
        "Xc=np.zeros(1000)\n",
        "Y=np.concatenate((Xc,np.ones(1000)))\n",
        "for i in range(1, 10):\n",
        "  X_train= ans[:1500,:-i]\n",
        "  y_train= Y[:1500]\n",
        "  X_test= ans[1500:,:-i]\n",
        "  y_test= Y[1500:]\n",
        "  model = LDA()\n",
        "  model.fit(X_train , y_train)\n",
        "  y_preds=model.predict(X_test)\n",
        "  scores=np.append(scores,accuracy_score(y_test,y_preds))\n",
        "  print(accuracy_score(y_test,y_preds))"
      ],
      "metadata": {
        "colab": {
          "base_uri": "https://localhost:8080/"
        },
        "id": "K7Ischg4UYKy",
        "outputId": "410445fd-cd54-4b32-cfa9-7e04e5d691c8"
      },
      "execution_count": 37,
      "outputs": [
        {
          "output_type": "stream",
          "name": "stdout",
          "text": [
            "0.998\n",
            "0.998\n",
            "0.998\n",
            "0.998\n",
            "0.998\n",
            "0.998\n",
            "0.992\n",
            "0.894\n",
            "0.59\n"
          ]
        }
      ]
    },
    {
      "cell_type": "code",
      "source": [
        "print(scores)"
      ],
      "metadata": {
        "colab": {
          "base_uri": "https://localhost:8080/"
        },
        "id": "gEz69GjkLmFA",
        "outputId": "9c20e9d4-45be-48eb-aa94-1d74f26aac62"
      },
      "execution_count": 38,
      "outputs": [
        {
          "output_type": "stream",
          "name": "stdout",
          "text": [
            "[0.998 0.998 0.998 0.998 0.998 0.998 0.992 0.894 0.59 ]\n"
          ]
        }
      ]
    },
    {
      "cell_type": "code",
      "source": [
        "plt.plot([10,9,8,7,6,5,4,3,2],scores)"
      ],
      "metadata": {
        "colab": {
          "base_uri": "https://localhost:8080/",
          "height": 282
        },
        "id": "00KwxzthL6Hf",
        "outputId": "3a47e623-6e0c-48e5-c780-26dc08832373"
      },
      "execution_count": 39,
      "outputs": [
        {
          "output_type": "execute_result",
          "data": {
            "text/plain": [
              "[<matplotlib.lines.Line2D at 0x7fca75835110>]"
            ]
          },
          "metadata": {},
          "execution_count": 39
        },
        {
          "output_type": "display_data",
          "data": {
            "text/plain": [
              "<Figure size 432x288 with 1 Axes>"
            ],
            "image/png": "[encoded data removed]"
          },
          "metadata": {
            "needs_background": "light"
          }
        }
      ]
    },
    {
      "cell_type": "markdown",
      "source": [
        "# Question 3"
      ],
      "metadata": {
        "id": "4z3zrIsVMFjJ"
      }
    },
    {
      "cell_type": "code",
      "source": [
        "from sklearn.discriminant_analysis import LinearDiscriminantAnalysis\n",
        "from sklearn.metrics import accuracy_score\n",
        "LDA=LinearDiscriminantAnalysis()"
      ],
      "metadata": {
        "id": "H2mXcexRMBWm"
      },
      "execution_count": 40,
      "outputs": []
    },
    {
      "cell_type": "code",
      "source": [
        "Xc=np.zeros(1000)\n",
        "Y=np.concatenate((Xc,np.ones(1000)))\n",
        "X_mod=ans.copy()\n",
        "scores=np.array([])\n",
        "scr_plt=np.array([])"
      ],
      "metadata": {
        "id": "Rd6qP6lzUgGx"
      },
      "execution_count": 41,
      "outputs": []
    },
    {
      "cell_type": "code",
      "source": [
        "for i in range(0,9):\n",
        "  for j in range(0,X_mod.shape[1]):\n",
        "    LDA.fit(np.delete(X_mod,j,1),Y.ravel())\n",
        "    y_preds=LDA.predict(np.delete(X_mod,j,1))\n",
        "    scores=np.append(scores,accuracy_score(Y.ravel(),y_preds))\n",
        "  print(\"Number of of attributes removed:\", i+1)\n",
        "  print(\"Accuracies:\", scores)\n",
        "  drop=np.argsort(scores)[::-1]\n",
        "  X_mod=np.delete(X_mod,drop[0],1)\n",
        "  print(\"Accuracy after removing: \",scores[drop[0]],\"\\n\")\n",
        "  scr_plt=np.append(scr_plt,scores[drop[0]])\n",
        "  scores=np.array([])"
      ],
      "metadata": {
        "colab": {
          "base_uri": "https://localhost:8080/"
        },
        "id": "z3EYZtGsUiAH",
        "outputId": "5ecc8b6c-5469-4040-b744-35bd8a5df99f"
      },
      "execution_count": 42,
      "outputs": [
        {
          "output_type": "stream",
          "name": "stdout",
          "text": [
            "Number of of attributes removed: 1\n",
            "Accuracies: [0.9995 1.     1.     1.     0.9995 0.9995 1.     1.     1.     1.    ]\n",
            "Accuracy after removing:  1.0 \n",
            "\n",
            "Number of of attributes removed: 2\n",
            "Accuracies: [0.9995 1.     1.     0.9995 0.9995 0.9995 1.     1.     1.    ]\n",
            "Accuracy after removing:  1.0 \n",
            "\n",
            "Number of of attributes removed: 3\n",
            "Accuracies: [0.9995 1.     1.     0.9995 0.9995 0.9995 1.     1.    ]\n",
            "Accuracy after removing:  1.0 \n",
            "\n",
            "Number of of attributes removed: 4\n",
            "Accuracies: [0.9995 0.9995 1.     0.9995 0.9995 0.9995 1.    ]\n",
            "Accuracy after removing:  1.0 \n",
            "\n",
            "Number of of attributes removed: 5\n",
            "Accuracies: [0.9995 0.999  1.     0.9995 0.9995 0.9995]\n",
            "Accuracy after removing:  1.0 \n",
            "\n",
            "Number of of attributes removed: 6\n",
            "Accuracies: [1.     0.9995 0.9945 0.999  0.999 ]\n",
            "Accuracy after removing:  1.0 \n",
            "\n",
            "Number of of attributes removed: 7\n",
            "Accuracies: [0.999  0.989  0.9965 0.9965]\n",
            "Accuracy after removing:  0.999 \n",
            "\n",
            "Number of of attributes removed: 8\n",
            "Accuracies: [0.981  0.994  0.9945]\n",
            "Accuracy after removing:  0.9945 \n",
            "\n",
            "Number of of attributes removed: 9\n",
            "Accuracies: [0.8525 0.967 ]\n",
            "Accuracy after removing:  0.967 \n",
            "\n"
          ]
        }
      ]
    },
    {
      "cell_type": "code",
      "source": [
        "plt.plot([10,9,8,7,6,5,4,3,2],scr_plt)"
      ],
      "metadata": {
        "colab": {
          "base_uri": "https://localhost:8080/",
          "height": 282
        },
        "id": "Myqurit1iG7Z",
        "outputId": "c2c0a20a-8041-4f14-9e96-fd057e1676c8"
      },
      "execution_count": 44,
      "outputs": [
        {
          "output_type": "execute_result",
          "data": {
            "text/plain": [
              "[<matplotlib.lines.Line2D at 0x7fca757de410>]"
            ]
          },
          "metadata": {},
          "execution_count": 44
        },
        {
          "output_type": "display_data",
          "data": {
            "text/plain": [
              "<Figure size 432x288 with 1 Axes>"
            ],
            "image/png": "[encoded data removed]"
          },
          "metadata": {
            "needs_background": "light"
          }
        }
      ]
    },
    {
      "cell_type": "markdown",
      "source": [
        "# Question 4\n",
        "\n",
        "The results show that when applied to data, Backward Feature selection provides more accuracy than PCA. The dimensions are decreased using PCA without taking the target variable into account. The greedy method of backward selection identifies the best characteristics."
      ],
      "metadata": {
        "id": "ZORpzbB1PxNR"
      }
    }
  ]
}